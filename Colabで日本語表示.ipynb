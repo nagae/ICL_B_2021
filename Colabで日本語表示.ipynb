{
  "nbformat": 4,
  "nbformat_minor": 0,
  "metadata": {
    "colab": {
      "name": "Colabで日本語表示",
      "provenance": [],
      "collapsed_sections": [],
      "toc_visible": true,
      "authorship_tag": "ABX9TyNL48DoiF0ztxQWP+/awp0V",
      "include_colab_link": true
    },
    "kernelspec": {
      "name": "python3",
      "display_name": "Python 3"
    }
  },
  "cells": [
    {
      "cell_type": "markdown",
      "metadata": {
        "id": "view-in-github",
        "colab_type": "text"
      },
      "source": [
        "<a href=\"https://colab.research.google.com/github/nagae/ICL_B_2021/blob/main/Colab%E3%81%A7%E6%97%A5%E6%9C%AC%E8%AA%9E%E8%A1%A8%E7%A4%BA.ipynb\" target=\"_parent\"><img src=\"https://colab.research.google.com/assets/colab-badge.svg\" alt=\"Open In Colab\"/></a>"
      ]
    },
    {
      "cell_type": "markdown",
      "metadata": {
        "id": "Pm1ul4JGeOPr"
      },
      "source": [
        "# Colabで日本語表示\n",
        "`matplotlib` で軸のラベルやタイトルに日本語を使おうとして\n",
        "```python\n",
        "import matplotlib.pyplot as plt\n",
        "plt.plot([1, 2, 3, 4])\n",
        "plt.title(u\"->日本語のタイトルです<-\")\n",
        "plt.xlabel(u\"x軸です.\")\n",
        "plt.savefig('jp_font_tofu.png',dpi=100)\n",
        "plt.show()\n",
        "```\n",
        "などとすると，下記のように日本語文字が**豆腐**になってしまう．\n",
        "\n",
        "<img alt=\"tofu\" src=\"https://i.imgur.com/Z2OgSlT.png\" width=\"300\">\n",
        "\n",
        "これを回避するには，[`japanize-matplotlib` モジュール](https://pypi.org/project/japanize-matplotlib/1.1.2/)をインストールすればいい．仮想マシンに勝手にモジュールをインストールしていいものなんだろうかとは思うが，できてしまうのだから活用しない手は無い．\n",
        "\n",
        "モジュールをインストールするためには，コードセル内で下記のコマンドを実行する．`!` というのは Python コマンドではなく，仮想マシン上の**システムコマンド**であることを意味している．`pip install` は Python のモジュールをインストールするためのコマンドである．\n",
        "\n"
      ]
    },
    {
      "cell_type": "code",
      "metadata": {
        "id": "eYigj-64-uRX",
        "colab": {
          "base_uri": "https://localhost:8080/"
        },
        "outputId": "b15b527a-8548-4b6c-ece7-b5317d4bf933"
      },
      "source": [
        "!pip install japanize-matplotlib"
      ],
      "execution_count": null,
      "outputs": [
        {
          "output_type": "stream",
          "text": [
            "Collecting japanize-matplotlib\n",
            "\u001b[?25l  Downloading https://files.pythonhosted.org/packages/aa/85/08a4b7fe8987582d99d9bb7ad0ff1ec75439359a7f9690a0dbf2dbf98b15/japanize-matplotlib-1.1.3.tar.gz (4.1MB)\n",
            "\u001b[K     |████████████████████████████████| 4.1MB 4.4MB/s \n",
            "\u001b[?25hRequirement already satisfied: matplotlib in /usr/local/lib/python3.7/dist-packages (from japanize-matplotlib) (3.2.2)\n",
            "Requirement already satisfied: numpy>=1.11 in /usr/local/lib/python3.7/dist-packages (from matplotlib->japanize-matplotlib) (1.19.5)\n",
            "Requirement already satisfied: kiwisolver>=1.0.1 in /usr/local/lib/python3.7/dist-packages (from matplotlib->japanize-matplotlib) (1.3.1)\n",
            "Requirement already satisfied: cycler>=0.10 in /usr/local/lib/python3.7/dist-packages (from matplotlib->japanize-matplotlib) (0.10.0)\n",
            "Requirement already satisfied: python-dateutil>=2.1 in /usr/local/lib/python3.7/dist-packages (from matplotlib->japanize-matplotlib) (2.8.1)\n",
            "Requirement already satisfied: pyparsing!=2.0.4,!=2.1.2,!=2.1.6,>=2.0.1 in /usr/local/lib/python3.7/dist-packages (from matplotlib->japanize-matplotlib) (2.4.7)\n",
            "Requirement already satisfied: six in /usr/local/lib/python3.7/dist-packages (from cycler>=0.10->matplotlib->japanize-matplotlib) (1.15.0)\n",
            "Building wheels for collected packages: japanize-matplotlib\n",
            "  Building wheel for japanize-matplotlib (setup.py) ... \u001b[?25l\u001b[?25hdone\n",
            "  Created wheel for japanize-matplotlib: filename=japanize_matplotlib-1.1.3-cp37-none-any.whl size=4120276 sha256=96ed3018aa657389547d6f1de0a22f16faae03189707b63eb39a29d64fe64feb\n",
            "  Stored in directory: /root/.cache/pip/wheels/b7/d9/a2/f907d50b32a2d2008ce5d691d30fb6569c2c93eefcfde55202\n",
            "Successfully built japanize-matplotlib\n",
            "Installing collected packages: japanize-matplotlib\n",
            "Successfully installed japanize-matplotlib-1.1.3\n"
          ],
          "name": "stdout"
        }
      ]
    },
    {
      "cell_type": "markdown",
      "metadata": {
        "id": "siMUXylvl_3d"
      },
      "source": [
        "こうしてインストールされた `japanize-matplotlib` モジュールをインポートすれば，それ以降の日本語がきれいに表示され，PDFとして保存することもできる．"
      ]
    },
    {
      "cell_type": "code",
      "metadata": {
        "id": "wS02CzJs1h9H",
        "colab": {
          "base_uri": "https://localhost:8080/",
          "height": 292
        },
        "outputId": "2124d84f-440b-4aab-97ff-65b01f0dd5d4"
      },
      "source": [
        "import matplotlib.pyplot as plt\n",
        "import japanize_matplotlib\n",
        "plt.plot([1, 2, 3, 4], label=\"ほげほげ\")\n",
        "plt.title(u\"->日本語のタイトルです<-\")\n",
        "plt.xlabel(u\"x軸です.\")\n",
        "plt.legend()\n",
        "plt.savefig('jp_font.png',dpi=100)\n",
        "plt.savefig('jp_font.pdf')\n",
        "plt.show()\n"
      ],
      "execution_count": null,
      "outputs": [
        {
          "output_type": "display_data",
          "data": {
            "image/png": "[encoded data removed]",
            "text/plain": [
              "<Figure size 432x288 with 1 Axes>"
            ]
          },
          "metadata": {
            "tags": [],
            "needs_background": "light"
          }
        }
      ]
    }
  ]
}