{
  "nbformat": 4,
  "nbformat_minor": 0,
  "metadata": {
    "colab": {
      "name": "Colabを電卓として使う",
      "provenance": [],
      "collapsed_sections": [],
      "authorship_tag": "ABX9TyPIgPnDSPXtKvyYK7hH1Bvf",
      "include_colab_link": true
    },
    "kernelspec": {
      "name": "python3",
      "display_name": "Python 3"
    }
  },
  "cells": [
    {
      "cell_type": "markdown",
      "metadata": {
        "id": "view-in-github",
        "colab_type": "text"
      },
      "source": [
        "<a href=\"https://colab.research.google.com/github/nagae/ICL_B_2021/blob/main/Colab%E3%82%92%E9%9B%BB%E5%8D%93%E3%81%A8%E3%81%97%E3%81%A6%E4%BD%BF%E3%81%86.ipynb\" target=\"_parent\"><img src=\"https://colab.research.google.com/assets/colab-badge.svg\" alt=\"Open In Colab\"/></a>"
      ]
    },
    {
      "cell_type": "markdown",
      "metadata": {
        "id": "311MC4varyqA"
      },
      "source": [
        "# Colab を電卓として使ってみる\n"
      ]
    },
    {
      "cell_type": "markdown",
      "metadata": {
        "id": "dIUIbkdZvLj0"
      },
      "source": [
        "# 四則演算\n",
        "セルに**式**だけを書くと，それを**評価**した結果（計算結果）が出力される．"
      ]
    },
    {
      "cell_type": "code",
      "metadata": {
        "id": "iu9tRtfFroIE",
        "colab": {
          "base_uri": "https://localhost:8080/"
        },
        "outputId": "d0a109b0-f161-4e54-faf0-f13ef272137d"
      },
      "source": [
        "1+2+3+4+5+6+7+8+9+10 "
      ],
      "execution_count": null,
      "outputs": [
        {
          "output_type": "execute_result",
          "data": {
            "text/plain": [
              "55"
            ]
          },
          "metadata": {
            "tags": []
          },
          "execution_count": 2
        }
      ]
    },
    {
      "cell_type": "code",
      "metadata": {
        "id": "8V7e9ALtK0ym",
        "colab": {
          "base_uri": "https://localhost:8080/"
        },
        "outputId": "ab8a9f98-ec26-485b-8e31-fcff195b82f1"
      },
      "source": [
        "1-2+3-4+5-6+7-8+9-10"
      ],
      "execution_count": null,
      "outputs": [
        {
          "output_type": "execute_result",
          "data": {
            "text/plain": [
              "-5"
            ]
          },
          "metadata": {
            "tags": []
          },
          "execution_count": 3
        }
      ]
    },
    {
      "cell_type": "markdown",
      "metadata": {
        "id": "4KrcXqBwK-EM"
      },
      "source": [
        "１つのセルに２つ以上の式を書くと，最後の式の**評価結果**だけが出力される．下記の例では，１つ目の計算式は**評価**自体は実行されるが，その結果は出力されないので，ちょっと無駄（計算はするが答案用紙に答を書かないのと同じ）．"
      ]
    },
    {
      "cell_type": "code",
      "metadata": {
        "id": "KJ2Maskftcg_",
        "colab": {
          "base_uri": "https://localhost:8080/"
        },
        "outputId": "9f56b743-05c2-4a3f-f744-0885a34b247e"
      },
      "source": [
        "1+2+3+4+5+6+7+8+9+10 # セルの最後ではないので，この計算結果は表示されない\n",
        "1-2+3-4+5-6+7-8+9-10 # こちらの計算結果のみが出力される"
      ],
      "execution_count": null,
      "outputs": [
        {
          "output_type": "execute_result",
          "data": {
            "text/plain": [
              "-5"
            ]
          },
          "metadata": {
            "tags": []
          },
          "execution_count": 4
        }
      ]
    },
    {
      "cell_type": "markdown",
      "metadata": {
        "id": "OR9tspr3s0tc"
      },
      "source": [
        "1つのセル内で複数計算を出力させたい場合は，それぞれの計算式を [`print`という**関数**](https://docs.python.org/3/library/functions.html#print)に渡す．"
      ]
    },
    {
      "cell_type": "code",
      "metadata": {
        "id": "FATJmRvKryVc",
        "colab": {
          "base_uri": "https://localhost:8080/"
        },
        "outputId": "51d4370a-7b6d-4afe-fb02-ca227a8faec8"
      },
      "source": [
        "# 1つのセル内で複数の計算をする場合\n",
        "print(1+2+3+4+5+6+7+8+9+10)\n",
        "print(1-2+3-4+5-6+7-8+9-10)"
      ],
      "execution_count": null,
      "outputs": [
        {
          "output_type": "stream",
          "text": [
            "55\n",
            "-5\n"
          ],
          "name": "stdout"
        }
      ]
    },
    {
      "cell_type": "markdown",
      "metadata": {
        "id": "PGzf1b81trDu"
      },
      "source": [
        "`print`関数の代表的な書式は以下のようになっており，それぞれの **引数** を順番に画面に出力する．引数としては，任意の**オブジェクト**（変数，文字列，式など）を取ることができる．\n",
        "```python\n",
        "print(引数1, 引数2, ...)\n",
        "```\n",
        "例えば，次の行：\n",
        "```python\n",
        "print( \"a+b=\", a+b ) # 和\n",
        "```\n",
        "は，`print`関数の第1引数として`\"a+b=\"`という**文字列**，第2引数として`a+b`という**式**を与えている． `print`関数の引数に**式**が与えられた場合は，その**評価値**(計算結果)が表示される． 最後の `# 和` というのは**コメント**．Python では `#` という記号から行末まではすべてコメントとして取り扱われる．"
      ]
    },
    {
      "cell_type": "markdown",
      "metadata": {
        "id": "7XpWU_o1EVWV"
      },
      "source": [
        "次のセルでは，`a` と`b` という2つの**変数**に値を**代入**し，その加減乗除を行った結果を [`print` **関数**](https://docs.python.org/3/library/functions.html#print)に渡している． 第1回講義の「Colaboratoryの練習」では整数の商を求めるのに [`int`**関数**](https://docs.python.org/3/library/functions.html#int) を使ったが， 整数の商を求める `//` という **演算子**があるので，これを使った方がスッキリと記述できてよい．"
      ]
    },
    {
      "cell_type": "code",
      "metadata": {
        "id": "7dMeMdH7rw93",
        "colab": {
          "base_uri": "https://localhost:8080/"
        },
        "outputId": "c3d238a4-4517-4abb-f312-5dabc16f72c0"
      },
      "source": [
        "a = 13\n",
        "b = 5\n",
        "print( \"a+b=\", a+b ) # 和\n",
        "print( \"a-b=\", a-b ) # 差\n",
        "print( \"b-a=\", b-a ) # 差\n",
        "print( \"a*b=\", a*b ) # 積\n",
        "print( \"a**b=\", a**b ) # べき乗\n",
        "print( \"a//b=\", a//b ) # 商\n",
        "print( \"a%b=\", a%b ) # 剰余\n",
        "print( \"b//a=\", b//a ) # 商\n",
        "print( \"b%a=\", b%a ) # 剰余\n"
      ],
      "execution_count": null,
      "outputs": [
        {
          "output_type": "stream",
          "text": [
            "a+b= 18\n",
            "a-b= 8\n",
            "b-a= -8\n",
            "a*b= 65\n",
            "a**b= 371293\n",
            "a//b= 2\n",
            "a%b= 3\n",
            "b//a= 0\n",
            "b%a= 5\n"
          ],
          "name": "stdout"
        }
      ]
    },
    {
      "cell_type": "markdown",
      "metadata": {
        "id": "zP4o6lB6u0Lb"
      },
      "source": [
        "なお，除算の結果を実数で求めたい場合は，`//` の代わりに `/` という **演算子** を使う．"
      ]
    },
    {
      "cell_type": "code",
      "metadata": {
        "id": "t4SNl8neuwvT",
        "colab": {
          "base_uri": "https://localhost:8080/"
        },
        "outputId": "4eb12306-09fb-48de-e867-d199da6dfe48"
      },
      "source": [
        "a = 13\n",
        "b = 5\n",
        "print( \"a//b=\", a//b ) # 商\n",
        "print( \"b//a=\", b//a ) # 商\n",
        "print( \"a/b=\", a/b ) # 除算\n",
        "print( \"b/a=\", b/a ) # 除算\n"
      ],
      "execution_count": null,
      "outputs": [
        {
          "output_type": "stream",
          "text": [
            "a//b= 2\n",
            "b//a= 0\n",
            "a/b= 2.6\n",
            "b/a= 0.38461538461538464\n"
          ],
          "name": "stdout"
        }
      ]
    },
    {
      "cell_type": "markdown",
      "metadata": {
        "id": "OSg9gkKVvvDm"
      },
      "source": [
        "# `math` モジュールを用いた高度な演算\n",
        "[`math` モジュール](https://docs.python.org/3/library/math.html)を用いれば，更に高度な演算も行える．\n",
        "\n",
        "Python では虚数単位は `j` で表示される．例えば，$4+2i$ はPythonでは `4+2j` で表されるし，単位虚数$i$ は `1j` で表される．なお，この講義では，複素数は取り扱わない．"
      ]
    },
    {
      "cell_type": "code",
      "metadata": {
        "id": "hz37SkBHvCKo"
      },
      "source": [
        "import math # math モジュールをインポートする\n",
        "import cmath # 複素数用数学関数"
      ],
      "execution_count": null,
      "outputs": []
    },
    {
      "cell_type": "code",
      "metadata": {
        "id": "iqjfADFrzncJ",
        "colab": {
          "base_uri": "https://localhost:8080/"
        },
        "outputId": "95a6bf42-de70-4df1-a1a0-73596a91bdaf"
      },
      "source": [
        "print(math.factorial(10)) # 10の階乗（10!)\n",
        "print(math.gcd(24,56)) # 最大公約数\n",
        "print(math.exp(0.7)) # 指数\n",
        "print(math.log(2)) # 自然対数\n",
        "print(math.log10(400)) # 10を底とする対数\n",
        "print(math.pow(4, 1/3)) # べき乗（4の1/3乗を返す）\n",
        "print(math.sqrt(12)) # 平方根\n",
        "print(cmath.exp(1j*math.pi).real) # 世界で最も美しい数式（実部のみ表示）"
      ],
      "execution_count": null,
      "outputs": [
        {
          "output_type": "stream",
          "text": [
            "3628800\n",
            "8\n",
            "2.0137527074704766\n",
            "0.6931471805599453\n",
            "2.6020599913279625\n",
            "1.5874010519681994\n",
            "3.4641016151377544\n",
            "-1.0\n"
          ],
          "name": "stdout"
        }
      ]
    },
    {
      "cell_type": "code",
      "metadata": {
        "id": "N1mJgpQT6Cgt",
        "colab": {
          "base_uri": "https://localhost:8080/"
        },
        "outputId": "7825cc67-88eb-44b5-8431-8aec83cd6181"
      },
      "source": [
        "cmath.exp(1j*math.pi)"
      ],
      "execution_count": null,
      "outputs": [
        {
          "output_type": "execute_result",
          "data": {
            "text/plain": [
              "(-1+1.2246467991473532e-16j)"
            ]
          },
          "metadata": {
            "tags": []
          },
          "execution_count": 10
        }
      ]
    },
    {
      "cell_type": "markdown",
      "metadata": {
        "id": "hSAnUdD94KeL"
      },
      "source": [
        "# `numpy` モジュールを用いたベクトル・行列演算\n",
        "[`numpy` モジュール](https://docs.scipy.org/doc/numpy/)を用いれば，ベクトル・行列の高速演算が行える．\n",
        "\n",
        "慣習的に`numpy` モジュールをインポートする時は，\n",
        "\n",
        "```python\n",
        "import numpy as np\n",
        "```\n",
        "\n",
        "として，`np` という**別名**を使うことが多い．"
      ]
    },
    {
      "cell_type": "code",
      "metadata": {
        "id": "1cYkQ32AzsbP"
      },
      "source": [
        "import numpy as np # numpy モジュールを np という別名でインポート"
      ],
      "execution_count": null,
      "outputs": []
    },
    {
      "cell_type": "markdown",
      "metadata": {
        "id": "PJfybY325s6H"
      },
      "source": [
        "[`numpy.array`関数](https://docs.scipy.org/doc/numpy/reference/generated/numpy.array.html)を使ってベクトル，行列を定義できる．"
      ]
    },
    {
      "cell_type": "code",
      "metadata": {
        "id": "HQcDehnxz1ca",
        "colab": {
          "base_uri": "https://localhost:8080/"
        },
        "outputId": "b0997064-db45-41d9-82e0-1807f08a146a"
      },
      "source": [
        "A = np.array([[3, 2, 8], \n",
        "              [0, 4, 3],\n",
        "              [5, 0, 1]\n",
        "              ]) # 3x3正方行列\n",
        "B = np.array([[1, 3, 2, 5],\n",
        "              [2, 1, 0, 6],\n",
        "              [7, 4, 3, 0]\n",
        "              ]) # 3行4列行列\n",
        "b = np.array([1, 2, 3]) # 1次元ベクトル\n",
        "\n",
        "print(\"A:\\n\", A) # 行列A\n",
        "print(\"B:\\n\", B) # 行列B\n",
        "print(\"b:\\n\", b) # 1次元ベクトルb"
      ],
      "execution_count": null,
      "outputs": [
        {
          "output_type": "stream",
          "text": [
            "A:\n",
            " [[3 2 8]\n",
            " [0 4 3]\n",
            " [5 0 1]]\n",
            "B:\n",
            " [[1 3 2 5]\n",
            " [2 1 0 6]\n",
            " [7 4 3 0]]\n",
            "b:\n",
            " [1 2 3]\n"
          ],
          "name": "stdout"
        }
      ]
    },
    {
      "cell_type": "markdown",
      "metadata": {
        "id": "3VMFqkKm6BSU"
      },
      "source": [
        "行列`A` の転置は `A.T` で表される．行列同士の積や行列とベクトルの積は [`numpy.dot`関数](https://docs.scipy.org/doc/numpy/reference/generated/numpy.dot.html)を使って求められる．\n",
        "\n",
        "行列に対して `*` という演算子を使うと，行列の積（内積）ではなく「各要素ごとの積」を計算してしまうので注意．\n",
        "\n"
      ]
    },
    {
      "cell_type": "code",
      "metadata": {
        "id": "BxPwdDCL9HTN",
        "colab": {
          "base_uri": "https://localhost:8080/"
        },
        "outputId": "e902dbe8-0fc0-4e29-c9a7-b5c2fe5cec21"
      },
      "source": [
        "print( B.T ) # 行列Bの転置\n",
        "print( A.dot(b) ) # 行列Aとbの積\n",
        "print( B.T.dot(A) ) # Bの転置とAの積\n",
        "print( A.dot(A) ) # 行列Aと行列Aの積\n",
        "print( A*A ) # 行列Aの要素ごとの積"
      ],
      "execution_count": null,
      "outputs": [
        {
          "output_type": "stream",
          "text": [
            "[[1 2 7]\n",
            " [3 1 4]\n",
            " [2 0 3]\n",
            " [5 6 0]]\n",
            "[31 17  8]\n",
            "[[38 10 21]\n",
            " [29 10 31]\n",
            " [21  4 19]\n",
            " [15 34 58]]\n",
            "[[49 14 38]\n",
            " [15 16 15]\n",
            " [20 10 41]]\n",
            "[[ 9  4 64]\n",
            " [ 0 16  9]\n",
            " [25  0  1]]\n"
          ],
          "name": "stdout"
        }
      ]
    },
    {
      "cell_type": "markdown",
      "metadata": {
        "id": "4RLodxCM9Hsq"
      },
      "source": [
        "[`numpy.linalg.inv`関数](https://docs.scipy.org/doc/numpy/reference/generated/numpy.linalg.inv.html)や[`numpy.linalg.eig`関数](https://docs.scipy.org/doc/numpy/reference/generated/numpy.linalg.eig.html)を用いれば，逆行列や固有値・固有ベクトルもあっという間に計算できる．"
      ]
    },
    {
      "cell_type": "code",
      "metadata": {
        "id": "bVDtFHEl460V",
        "colab": {
          "base_uri": "https://localhost:8080/"
        },
        "outputId": "43ab0160-983e-4e28-88e6-8e7d294242f9"
      },
      "source": [
        "invA = np.linalg.inv(A)\n",
        "print( invA ) # 行列Aの逆行列\n",
        "# 正しく逆行列が求められているかどうかを確認\n",
        "print( invA.dot(A) ) # 行列Aの逆行列と元の行列の積（計算誤差を除けばほぼ単位行列）\n",
        "np.set_printoptions(suppress=True) # 指数表示をやめる\n",
        "print( invA.dot(A) ) # 単位行列が表示される\n",
        "print( A.dot(invA) ) # 逆行列を右から乗じても同じく単位行列が得られる"
      ],
      "execution_count": null,
      "outputs": [
        {
          "output_type": "stream",
          "text": [
            "[[-0.03389831  0.01694915  0.22033898]\n",
            " [-0.12711864  0.31355932  0.07627119]\n",
            " [ 0.16949153 -0.08474576 -0.10169492]]\n",
            "[[ 1.00000000e+00  0.00000000e+00  0.00000000e+00]\n",
            " [ 4.16333634e-17  1.00000000e+00  4.16333634e-17]\n",
            " [-5.55111512e-17  0.00000000e+00  1.00000000e+00]]\n",
            "[[ 1.  0.  0.]\n",
            " [ 0.  1.  0.]\n",
            " [-0.  0.  1.]]\n",
            "[[1. 0. 0.]\n",
            " [0. 1. 0.]\n",
            " [0. 0. 1.]]\n"
          ],
          "name": "stdout"
        }
      ]
    },
    {
      "cell_type": "code",
      "metadata": {
        "id": "WCsvONR55KDX",
        "colab": {
          "base_uri": "https://localhost:8080/"
        },
        "outputId": "3c70a621-56f8-4748-f10d-0075d76e8a36"
      },
      "source": [
        "w, v = np.linalg.eig(A) # 行列Aの固有値・固有ベクトル\n",
        "print(w) # 固有値の表示\n",
        "print(v) # 固有ベクトル（各列が各固有値に対応した，長さを1に基準化した固有ベクトル）\n",
        "# 正しく固有ベクトルが求められているかどうかを確認\n",
        "p = A.dot(v[:,0]) # 行列Aと1番目の固有ベクトル（vの第0列）を乗じたもの\n",
        "q = w[0]*v[:,0] # 1番目固有値（wの第0要素）と対応する固有ベクトルの積\n",
        "print(p)\n",
        "print(q)\n",
        "print(p-q) # 殆どゼロ"
      ],
      "execution_count": null,
      "outputs": [
        {
          "output_type": "stream",
          "text": [
            "[-4.10734405  8.86755146  3.23979259]\n",
            "[[ 0.69177452 -0.80133248  0.10937574]\n",
            " [ 0.2506006  -0.31387293 -0.96354577]\n",
            " [-0.67723508 -0.50926421  0.24416488]]\n",
            "[-2.84135594 -1.02930287  2.78163749]\n",
            "[-2.84135594 -1.02930287  2.78163749]\n",
            "[-0. -0.  0.]\n"
          ],
          "name": "stdout"
        }
      ]
    },
    {
      "cell_type": "code",
      "metadata": {
        "id": "s_-m1l7CBLjF",
        "colab": {
          "base_uri": "https://localhost:8080/"
        },
        "outputId": "9cf433ef-5299-4ab1-d7a3-2c767b0fd4b4"
      },
      "source": [
        "w, v = np.linalg.eig(A) # 行列Aの固有値・固有ベクトル\n",
        "print(w) # 固有値の表示\n",
        "print(v) # 固有ベクトル（各列が各固有値に対応した，長さを1に基準化した固有ベクトル）\n",
        "# 正しく固有ベクトルが求められているかどうかを確認\n",
        "p = A.dot(v[:,0]) # 行列Aと1番目の固有ベクトル（vの第0列）を乗じたもの\n",
        "q = w[0]*v[:,0] # 1番目固有値（wの第0要素）と対応する固有ベクトルの積\n",
        "print(p)\n",
        "print(q)\n",
        "print(p-q) # 殆どゼロ"
      ],
      "execution_count": null,
      "outputs": [
        {
          "output_type": "stream",
          "text": [
            "[-4.10734405  8.86755146  3.23979259]\n",
            "[[ 0.69177452 -0.80133248  0.10937574]\n",
            " [ 0.2506006  -0.31387293 -0.96354577]\n",
            " [-0.67723508 -0.50926421  0.24416488]]\n",
            "[-2.84135594 -1.02930287  2.78163749]\n",
            "[-2.84135594 -1.02930287  2.78163749]\n",
            "[-0. -0.  0.]\n"
          ],
          "name": "stdout"
        }
      ]
    },
    {
      "cell_type": "markdown",
      "metadata": {
        "id": "eZqX0-ssSCZq"
      },
      "source": [
        "2番め，3番目の固有値と固有ベクトルについても，正しく計算できていることを確認しよう．"
      ]
    },
    {
      "cell_type": "code",
      "metadata": {
        "id": "RXCoKCO7CUZK",
        "colab": {
          "base_uri": "https://localhost:8080/"
        },
        "outputId": "a381bcd3-e64f-4ed4-bc6f-2f7aa4deed63"
      },
      "source": [
        "# 実はこうすれば一度に確認できる\n",
        "p = A.dot(v) \n",
        "q = w*v \n",
        "p - q"
      ],
      "execution_count": null,
      "outputs": [
        {
          "output_type": "execute_result",
          "data": {
            "text/plain": [
              "array([[-0.,  0., -0.],\n",
              "       [-0.,  0.,  0.],\n",
              "       [ 0.,  0., -0.]])"
            ]
          },
          "metadata": {
            "tags": []
          },
          "execution_count": 17
        }
      ]
    },
    {
      "cell_type": "markdown",
      "metadata": {
        "id": "tyygs4sKGaG3"
      },
      "source": [
        "上のセルの解説．\n",
        "\n",
        "行列$\\mathbf{A}$の固有値$w_{0}, w_{1}, w_{2}\\in \\mathcal{R}$ のそれぞれに対応する固有ベクトル(それぞれ3次元列ベクトル）を$\\mathbf{v}_{0}, \\mathbf{v}_{1}, \\mathbf{v}_{2} \\in \\mathcal{R}^{3\\times1}$ とし， それを並べたものを\n",
        "$$\\begin{align}\n",
        "\\mathbf{w} &= \\begin{bmatrix} w_{0} & w_{1} & w_{2} \\end{bmatrix}\\\\\n",
        "\\mathbf{V} &= \\begin{bmatrix} \\mathbf{v}_{0} & \\mathbf{v}_{1} & \\mathbf{v}_{2}\\end{bmatrix}\n",
        "\\end{align}$$\n",
        "とする． $\\mathbf{w}$は3次元行ベクトル，$\\mathbf{V}$は3×3正方行列である．\n",
        "\n",
        "```python\n",
        "w, v = np.linalg.eig(A)\n",
        "``` \n",
        "\n",
        "という命令によって得られる`w`　および`v`は，それぞれ，上述の$\\mathbf{w}$および$\\mathbf{V}$に相当する．\n",
        "\n",
        "ここで，\n",
        "$$\\begin{align}\n",
        "\\mathbf{A} \\mathbf{V} &= \\begin{bmatrix}\n",
        "\\mathbf{A} \\mathbf{v}_{0} &\n",
        "\\mathbf{A} \\mathbf{v}_{1} &\n",
        "\\mathbf{A} \\mathbf{v}_{2}\n",
        "\\end{bmatrix} \n",
        "&&= \\mathtt{p}\n",
        "\\\\\n",
        "&= \\begin{bmatrix}\n",
        "w_{0} \\mathbf{v}_{0} &\n",
        "w_{1} \\mathbf{v}_{1} &\n",
        "w_{2} \\mathbf{v}_{2}\n",
        "\\end{bmatrix} &&= \\mathtt{q}\n",
        "\\end{align}\n",
        "$$\n",
        "とした時，それぞれは， `numpy` の文法では\n",
        "```python\n",
        "p = A.dot(v)\n",
        "q = w*v\n",
        "```\n",
        "と表される（`.dot` がベクトル・行列の積を表すのに対し，`*`が要素ごとの積を表すことに注意されたい）．このため，`p-q` はゼロ行列となる．"
      ]
    }
  ]
}