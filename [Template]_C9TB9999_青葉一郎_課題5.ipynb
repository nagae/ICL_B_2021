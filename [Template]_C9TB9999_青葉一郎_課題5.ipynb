{
  "nbformat": 4,
  "nbformat_minor": 0,
  "metadata": {
    "kernelspec": {
      "display_name": "Python 3",
      "language": "python",
      "name": "python3"
    },
    "language_info": {
      "codemirror_mode": {
        "name": "ipython",
        "version": 3
      },
      "file_extension": ".py",
      "mimetype": "text/x-python",
      "name": "python",
      "nbconvert_exporter": "python",
      "pygments_lexer": "ipython3",
      "version": "3.7.7"
    },
    "colab": {
      "name": "[Template] C9TB9999_青葉一郎-課題5.ipynb",
      "provenance": [],
      "collapsed_sections": [],
      "include_colab_link": true
    }
  },
  "cells": [
    {
      "cell_type": "markdown",
      "metadata": {
        "id": "view-in-github",
        "colab_type": "text"
      },
      "source": [
        "<a href=\"https://colab.research.google.com/github/nagae/ICL_B_2021/blob/main/%5BTemplate%5D_C9TB9999_%E9%9D%92%E8%91%89%E4%B8%80%E9%83%8E_%E8%AA%B2%E9%A1%8C5.ipynb\" target=\"_parent\"><img src=\"https://colab.research.google.com/assets/colab-badge.svg\" alt=\"Open In Colab\"/></a>"
      ]
    },
    {
      "cell_type": "markdown",
      "metadata": {
        "id": "tEsDbHnRF2kN"
      },
      "source": [
        "# 課題5\n",
        "提出日：2020年7月14日(火)\n",
        "\n",
        "C9TB9999 青葉一郎 **← 適宜修正して下さい**"
      ]
    },
    {
      "cell_type": "markdown",
      "metadata": {
        "id": "pxciYxxYF2kN"
      },
      "source": [
        "## 【課題5-1】 三百八十五減算\n",
        "0以上385未満の任意の数$x$に対して，\n",
        "- $x$を5で割った余り$a$\n",
        "- $x$を7で割った余り$b$\n",
        "- $x$を11で割った余り$c$\n",
        "\n",
        "から$x$を求める式を求めよ．求めた式を用いて，以下のそれぞれのケースに対して，正しくもとの数$x$が復号できるか確認せよ．\n",
        "\n",
        "|a | b | c | x |\n",
        "|---|----|---|---|\n",
        "|2 | 6 | 5 | 27 |\n",
        "|3 | 2 | 10 | 373 |\n",
        "|4 | 2 | 1 | 254 |"
      ]
    },
    {
      "cell_type": "markdown",
      "metadata": {
        "id": "LsV4EnvOF2kO"
      },
      "source": [
        "以下のセルは百五減算を行なうためのプログラムが書かれている．これを適当に修正して三百八十五減算が計算できるようにせよ．"
      ]
    },
    {
      "cell_type": "code",
      "metadata": {
        "id": "DSZQ4bOCF2kO",
        "colab": {
          "base_uri": "https://localhost:8080/",
          "height": 70
        },
        "outputId": "12dd8298-6687-4776-eb9a-c766d1d442e8"
      },
      "source": [
        "(a, b, c) = (2, 6, 5) # 変数 a, b, c にそれぞれ 2, 6, 5 を代入する\n",
        "#### a, b, c から x を求める\n",
        "x =  (70 * a + 21 * b + 15 * c) % 105 # 百五減算でもとの数\n",
        "print(\"x=\", x)\n",
        "\n",
        "(a, b, c) = (3, 2, 10) # 変数 a, b, c にそれぞれ 2, 6, 5 を代入する\n",
        "#### a, b, c から x を求める\n",
        "x =  (70 * a + 21 * b + 15 * c) % 105 # 百五減算でもとの数\n",
        "print(\"x=\", x)\n",
        "\n",
        "(a, b, c) = (4, 2, 1) # 変数 a, b, c にそれぞれ 2, 6, 5 を代入する\n",
        "#### a, b, c から x を求める\n",
        "x =  (70 * a + 21 * b + 15 * c) % 105 # 百五減算でもとの数\n",
        "print(\"x=\", x)"
      ],
      "execution_count": null,
      "outputs": [
        {
          "output_type": "stream",
          "text": [
            "x= 26\n",
            "x= 87\n",
            "x= 22\n"
          ],
          "name": "stdout"
        }
      ]
    },
    {
      "cell_type": "markdown",
      "metadata": {
        "id": "NTSLPbQXF2kR"
      },
      "source": [
        "## 【課題5-2】 RSA暗号\n",
        "$N\\approx132000$ 程度となるように，上述の例とは異なる素数 $p, q$を用いて，自分で公開鍵$(N, r)$と秘密鍵$s$を作成せよ． \n",
        "素数については，以下のサイトに掲載されているものを使ってよい：\n",
        "https://www.mathsisfun.com/numbers/prime-numbers-to-10k.html\n",
        "\n",
        "求めた公開鍵と秘密鍵を用いて，以下の漢詩の暗号化(漢字→暗号コード)と複合化(暗号コード→漢字)を行え：\n",
        "\n",
        "> 国破山河在  \n",
        "> 城春草木深  \n",
        "> 感時花濺涙  \n",
        "> 恨別鳥驚心\n",
        "\n",
        "暗号化する際は，もとの漢詩1行ごとに暗号コードを1行づつ用意し，その中に各文字に対応する暗号コードをカンマで区切って表示させること．\n",
        "\n",
        "上述の例(`(N, r) = (2100949, 11), s = 953591`)の場合， 暗号コードは以下の通り：\n",
        "```text\n",
        "1649451, 1712564, 520074, 374329, 1033149\n",
        "1978913, 790664, 1401088, 1127747, 631168\n",
        "140273, 1827109, 814736, 266160, 1996365\n",
        "1143597, 1163429, 902879, 1062966, 1560799\n",
        "```"
      ]
    },
    {
      "cell_type": "markdown",
      "metadata": {
        "id": "KJQXEvyxF2kS"
      },
      "source": [
        "以降のセルには，長江が講義資料で用いた例が書かれている．適当に修正して，自らのオリジナルの公開鍵$(N, r)$と秘密鍵$s$を作成し，与えられた漢詩を暗号化・複合化せよ．"
      ]
    },
    {
      "cell_type": "code",
      "metadata": {
        "id": "odqOuryAF2kS",
        "colab": {
          "base_uri": "https://localhost:8080/",
          "height": 140
        },
        "outputId": "debff095-eb7c-4916-baaf-34f1901cf620"
      },
      "source": [
        "#\n",
        "# 公開鍵と秘密鍵を求める部分\n",
        "#\n",
        "\n",
        "import math # 最大公約数を求めるプログラム math.gcd を使うためのモジュール\n",
        "(p, q) = (1051, 1999) # 【変えるところ】 2つの異なる素数．自分で決めること． 今回は素数表などから探してよい．\n",
        "N = p * q # 公開鍵の1つを成す N\n",
        "M = (p-1) * (q-1) \n",
        "print(\"p=\", p, \", q=\", q)\n",
        "print(\"N=\", N, \", M=\", M)\n",
        "\n",
        "# Mと「互いに素(最大公約数が1)」なる整数 r を探す\n",
        "# 手作業でもできるし，自分で for を使った繰返し処理をしてもOK．\n",
        "r = 11 # 【自分で修正するところ】 Mとの最大公約数が1になるものを探して下さい\n",
        "print(\"gcd(M, r)=\", math.gcd(M, r), \"← これが1ならOK\") # これが1ならOK\n",
        "print(\"r=\", r)\n",
        "\n",
        "# [チートコード] r*s を M で割った余りが 1 となるような整数 s を探す\n",
        "# これは手作業でやるのは大変なので， 以下のコードを「おまじない」としてそのまま使ってよい．\n",
        "for s in range(2, M): # 2以上M未満の候補を次々と s に代入して繰返す\n",
        "    if (r * s) % M == 1: # (r*s) % M が 1 となるなら, s を表示して繰返しを終了する\n",
        "        print(\"s=\", s)\n",
        "        break\n",
        "\n",
        "# 結果を表示\n",
        "print(\"公開鍵: (N, r)=\", (N, r) )\n",
        "print(\"秘密鍵: s=\", s)"
      ],
      "execution_count": null,
      "outputs": [
        {
          "output_type": "stream",
          "text": [
            "p= 1051 , q= 1999\n",
            "N= 2100949 , M= 2097900\n",
            "gcd(M, r)= 1 ← これが1ならOK\n",
            "r= 11\n",
            "s= 953591\n",
            "公開鍵: (N, r)= (2100949, 11)\n",
            "秘密鍵: s= 953591\n"
          ],
          "name": "stdout"
        }
      ]
    },
    {
      "cell_type": "code",
      "metadata": {
        "id": "RcfzeuMCGG6a",
        "colab": {
          "base_uri": "https://localhost:8080/",
          "height": 34
        },
        "outputId": "dead4686-68cd-4c97-e4b2-728b6bb79618"
      },
      "source": [
        "#\n",
        "# 漢詩を暗号化する部分\n",
        "#\n",
        "print( pow( ord(\"国\"), r, N ), end=\",\" ) # end=\",\" とすると改行せずにカンマを出力\n",
        "print( pow( ord(\"破\"), r, N ), end=\",\" )\n",
        "print( pow( ord(\"山\"), r, N ), end=\",\" )\n",
        "print( pow( ord(\"河\"), r, N ), end=\",\" )\n",
        "print( pow( ord(\"在\"), r, N ) )\n",
        "# 【これ以降に残りの部分を記述すること】\n",
        "# できる人は for を使った繰返し処理を使ってもOK．"
      ],
      "execution_count": null,
      "outputs": [
        {
          "output_type": "stream",
          "text": [
            "1649451,1712564,520074,374329,1033149\n"
          ],
          "name": "stdout"
        }
      ]
    },
    {
      "cell_type": "code",
      "metadata": {
        "id": "GEvIHA-UKG1X",
        "colab": {
          "base_uri": "https://localhost:8080/",
          "height": 34
        },
        "outputId": "23da69bb-413e-44e4-e4bb-3fbd7770edc1"
      },
      "source": [
        "#\n",
        "# 暗号コードを複合化する部分\n",
        "#\n",
        "print( chr( pow(1649451, s, N) ), end=\"\" ) # end=\"\"とすると改行せずに続けて次を出力\n",
        "print( chr( pow(1712564, s, N) ), end=\"\" )\n",
        "print( chr( pow(520074,  s, N) ), end=\"\" )\n",
        "print( chr( pow(374329,  s, N) ), end=\"\" )\n",
        "print( chr( pow(1033149, s, N) ) )\n",
        "# 【これ以降に残りの部分を記述すること】\n",
        "# できる人は for を使った繰返し処理を使ってもOK．"
      ],
      "execution_count": null,
      "outputs": [
        {
          "output_type": "stream",
          "text": [
            "国破山河在\n"
          ],
          "name": "stdout"
        }
      ]
    },
    {
      "cell_type": "code",
      "metadata": {
        "id": "2ukI2c-2ULZN"
      },
      "source": [
        ""
      ],
      "execution_count": null,
      "outputs": []
    }
  ]
}