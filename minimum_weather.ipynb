{
  "nbformat": 4,
  "nbformat_minor": 0,
  "metadata": {
    "colab": {
      "name": "minimum_weather.ipynb",
      "provenance": [],
      "authorship_tag": "ABX9TyMfY1aJvHRRSEIAdavHDWHV",
      "include_colab_link": true
    },
    "kernelspec": {
      "name": "python3",
      "display_name": "Python 3"
    },
    "language_info": {
      "name": "python"
    }
  },
  "cells": [
    {
      "cell_type": "markdown",
      "metadata": {
        "id": "view-in-github",
        "colab_type": "text"
      },
      "source": [
        "<a href=\"https://colab.research.google.com/github/nagae/ICL_B_2021/blob/main/minimum_weather.ipynb\" target=\"_parent\"><img src=\"https://colab.research.google.com/assets/colab-badge.svg\" alt=\"Open In Colab\"/></a>"
      ]
    },
    {
      "cell_type": "code",
      "metadata": {
        "id": "U6W4A9W3gkU6"
      },
      "source": [
        "from matplotlib import pyplot as plt # グラフ描画用の matplotlib ライブラリ内の pyplot というモジュールを plt という名前でインポート\n",
        "# データの準備\n",
        "month = range(1, 13) # month という変数に1〜12の数値を代入\n",
        "# 下記は自分が選択した地点の気象データを入力して下さい(サンプルは2019年の仙台のデータです)\n",
        "temp = [2.4, 3.7, 7.0, 10.2, 17.4, 19.0, 22.4, 26.2, 22.4, 16.9, 10.0, 5.4] # temp という変数に1月から12月までの平均気温(12個の数値のリスト)を代入\n",
        "prep = [4.0, 13.0, 83.0, 90.5, 81.0, 168.5, 111.5, 88.5, 72.5, 644.5, 5.5, 27.0] # prep という変数に1月から12月までの降水量(12個の数値のリスト)を代入\n",
        "# グラフのプロット\n",
        "plt.plot(month, temp, label=\"temperature\") # 気温を折れ線グラフでプロット\n",
        "plt.bar(month, prep, color=\"none\", edgecolor=\"red\", label=\"precipitation\") # 降水量を棒グラフでプロット(識別できるように塗り潰しはせず， 縁を赤線で表示)\n",
        "# グラフタイトル， 軸ラベル， 凡例を表示\n",
        "plt.title(\"Sendai weather 2019\") #グラフのタイトル\n",
        "plt.xlabel(\"month\") # x軸のラベル\n",
        "plt.xticks(month) # x軸の目盛を 1, 2, ..., 12 とする(デフォルトだと2ヶ月おきにしか目盛が表示されない)\n",
        "plt.ylabel(\"temperature [c] / precipitation [mm]\") # yJ軸のラベル(気温と降水量を同じ軸にプロット)\n",
        "plt.legend() # 凡例を追加\n",
        "plt.savefig('weather.pdf') # 作成されたグラフを weather.pdf という名前で保存(左側のファイルビューアーからダウンロードすること)"
      ],
      "execution_count": null,
      "outputs": []
    }
  ]
}