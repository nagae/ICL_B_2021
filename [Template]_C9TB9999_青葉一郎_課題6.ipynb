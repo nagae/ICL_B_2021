{
  "nbformat": 4,
  "nbformat_minor": 0,
  "metadata": {
    "colab": {
      "name": "[Template] C9TB9999_青葉一郎-課題6",
      "provenance": [],
      "collapsed_sections": [],
      "include_colab_link": true
    },
    "kernelspec": {
      "display_name": "Python 3",
      "language": "python",
      "name": "python3"
    },
    "language_info": {
      "codemirror_mode": {
        "name": "ipython",
        "version": 3
      },
      "file_extension": ".py",
      "mimetype": "text/x-python",
      "name": "python",
      "nbconvert_exporter": "python",
      "pygments_lexer": "ipython3",
      "version": "3.7.7"
    }
  },
  "cells": [
    {
      "cell_type": "markdown",
      "metadata": {
        "id": "view-in-github",
        "colab_type": "text"
      },
      "source": [
        "<a href=\"https://colab.research.google.com/github/nagae/ICL_B_2021/blob/main/%5BTemplate%5D_C9TB9999_%E9%9D%92%E8%91%89%E4%B8%80%E9%83%8E_%E8%AA%B2%E9%A1%8C6.ipynb\" target=\"_parent\"><img src=\"https://colab.research.google.com/assets/colab-badge.svg\" alt=\"Open In Colab\"/></a>"
      ]
    },
    {
      "cell_type": "markdown",
      "metadata": {
        "id": "t9K8MqJb-dMJ"
      },
      "source": [
        "# 課題6\n",
        "このファイルを自分のマイドライブにコピーして編集した後，添付して提出して下さい．\n",
        "\n",
        "提出日：2021年7月21日(水) **← 適宜修正して下さい**\n",
        "\n",
        "提出者：C9TB9999 青葉一郎 **← 適宜修正して下さい**"
      ]
    },
    {
      "cell_type": "markdown",
      "metadata": {
        "id": "BVLTIv_F-dMJ"
      },
      "source": [
        "## 【課題6】 素数の和\n",
        "ある整数`N`が与えられた時，`N`未満の素数の個数と和を求めて表示するプログラムを作り，下記の4つの整数を`N`として与えた場合の計算結果を示しなさい:\n",
        "\n",
        "```text\n",
        "10, 100, 1000, 10000\n",
        "```\n",
        "\n",
        "作成したプログラムは，動作が確認できるようにセルとして残すこと．\n",
        "計算結果は，[本ファイル末尾](#scrollTo=9_adv2_6Nosj&line=2&uniqifier=1)のような**テキスト・セルに整理する**こと．\n",
        "\n",
        "なお，`N`に`20, 200, 2000, 20000, 200000, 2000000, 20000000`を与えた場合の結果は以下の通り：\n",
        "\n",
        "|`N`|素数の個数|素数の和|\n",
        "|---|---|---|\n",
        "|20|8|77|\n",
        "|200|46|4227|\n",
        "|2000|303|277050|\n",
        "|20000|2262|21171191|\n",
        "|200000|17984|1709600813|\n",
        "|2000000|148933|142913828922|\n",
        "|20000000|1270607|12272577818052|\n",
        "\n",
        "以降の2つのセルには，\n",
        "1. `x`が素数か否かを判定するプログラム\n",
        "2. `N`未満の整数のうち3か5の倍数の個数と和を求めるプログラム\n",
        "\n",
        "が記載されている．これらを適宜組み合わせて題意を満足するプログラムを作成せよ．"
      ]
    },
    {
      "cell_type": "code",
      "metadata": {
        "id": "Afm6zkB--dMK",
        "colab": {
          "base_uri": "https://localhost:8080/"
        },
        "outputId": "7c754f25-f511-4504-d45c-c99ca8e78c35"
      },
      "source": [
        "# x が素数か否かを判定するプログラム\n",
        "x = 57\n",
        "is_prime = True\n",
        "for n in range(2,x):\n",
        "    if x % n == 0:\n",
        "        is_prime = False\n",
        "print(is_prime)"
      ],
      "execution_count": null,
      "outputs": [
        {
          "output_type": "stream",
          "text": [
            "False\n"
          ],
          "name": "stdout"
        }
      ]
    },
    {
      "cell_type": "code",
      "metadata": {
        "id": "LWuHE0bC-dMN",
        "colab": {
          "base_uri": "https://localhost:8080/"
        },
        "outputId": "2200a854-3159-48d8-980a-b90faf5669c3"
      },
      "source": [
        "# N未満の整数で3か5の倍数であるものの個数と和を求めるプログラム\n",
        "N = 1000\n",
        "num = 0\n",
        "val = 0\n",
        "for x in range(N):\n",
        "    if (x % 3 == 0) or (x % 5 == 0):\n",
        "        num = num + 1\n",
        "        val = val + x\n",
        "print(\"{0}未満\\t個数:{1}\\t和:{2}\".format(N, num, val))\n",
        "# \"\\t\" は「タブ」を表す文字だが，半角スペースに置き換えてもらってもかまわない"
      ],
      "execution_count": null,
      "outputs": [
        {
          "output_type": "stream",
          "text": [
            "1000未満\t個数:467\t和:233168\n"
          ],
          "name": "stdout"
        }
      ]
    },
    {
      "cell_type": "markdown",
      "metadata": {
        "id": "9_adv2_6Nosj"
      },
      "source": [
        "(計算結果はこのようなテキストセルに整理して下さい)\n",
        "\n",
        "# 計算結果\n",
        "上記のプログラムを用いた結果，素数の個数と和は以下のように求められた．\n",
        "```\n",
        "10未満の素数     個数:x    和:xx\n",
        "100未満の素数    個数:xx   和:xxx\n",
        "1000未満の素数   個数:xxx  和:xxxx\n",
        "10000未満の素数  個数:xxxx 和:xxxxx\n",
        "```\n",
        "# 考察について\n",
        "計算を効率化させる工夫などをした場合は，テキスト・セルを編集したり，適宜セルを追加するなどして工夫や考察を記述して下さい．\n"
      ]
    }
  ]
}