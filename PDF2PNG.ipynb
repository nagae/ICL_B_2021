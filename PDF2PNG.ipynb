{
  "nbformat": 4,
  "nbformat_minor": 0,
  "metadata": {
    "colab": {
      "name": "PDF2PNG.ipynb",
      "provenance": [],
      "collapsed_sections": [],
      "authorship_tag": "ABX9TyNoEN4xlxXbqZsr5IptJoSG",
      "include_colab_link": true
    },
    "kernelspec": {
      "name": "python3",
      "display_name": "Python 3"
    },
    "language_info": {
      "name": "python"
    }
  },
  "cells": [
    {
      "cell_type": "markdown",
      "metadata": {
        "id": "view-in-github",
        "colab_type": "text"
      },
      "source": [
        "<a href=\"https://colab.research.google.com/github/nagae/ICL_B_2021/blob/main/PDF2PNG.ipynb\" target=\"_parent\"><img src=\"https://colab.research.google.com/assets/colab-badge.svg\" alt=\"Open In Colab\"/></a>"
      ]
    },
    {
      "cell_type": "markdown",
      "metadata": {
        "id": "qPbLBsVV1tDA"
      },
      "source": [
        "# PDF ファイルを PNG に変換する\n",
        "Google Documents には課題2で作成した PDF ファイルをそのまま貼り付けることができない． 解決方法としては\n",
        "1. グラフを作成した Colab Notebook で `savefig()` 関数に与える引数を `savefig(hoge.png)` などとすることで，グラフをPNG形式のファイルとして保存する．\n",
        "2. 課題2で提出したPDFファイルをPNGファイルに変換する．\n",
        "\n",
        "の2つがある．前者の方が図を訂正したり出力する大きさを変えたりといった柔軟な対応ができるため理想的であるが，グラフを作成した Notebook が見つからない人もいるだろう．そこで，この Notebook では， 後者の方法を紹介する． \n",
        "\n",
        "ここでは，例として，[国内編最小サンプル](https://github.com/nagae/ICL_B_2021/blob/main/japan_minimum_sample.ipynb)で作成された [`sample.pdf`](https://github.com/nagae/ICL_B_2021/blob/main/sample.pdf) をPNGに変換する．\n",
        "\n",
        "## 1. ファイルビューアーにPDFファイルを置く\n",
        "PNGに変換したいPDFファイルをファイルビューアーにドラッグ&ドロップする．\n",
        "<div align=\"center\">\n",
        "<img src=https://i.imgur.com/AyYzUDS.png width=\"300\">\n",
        "</div>\n",
        "\n",
        "## 2. 変換に必要なモジュール類をインストール+インポートする\n",
        "次のセルを実行して，必要となるモジュール類をインストール + インポートする\n"
      ]
    },
    {
      "cell_type": "code",
      "metadata": {
        "colab": {
          "base_uri": "https://localhost:8080/"
        },
        "id": "ENwaXRmj1SfT",
        "outputId": "9fc8ba78-a723-4d64-9723-beccde03bb00"
      },
      "source": [
        "i# 必要なモジュールのインストールとインポート\n",
        "!apt-get install poppler-utils \n",
        "!pip install pdf2image\n",
        "from pdf2image import convert_from_path"
      ],
      "execution_count": 8,
      "outputs": [
        {
          "output_type": "stream",
          "text": [
            "Reading package lists... Done\n",
            "Building dependency tree       \n",
            "Reading state information... Done\n",
            "The following package was automatically installed and is no longer required:\n",
            "  libnvidia-common-460\n",
            "Use 'apt autoremove' to remove it.\n",
            "The following NEW packages will be installed:\n",
            "  poppler-utils\n",
            "0 upgraded, 1 newly installed, 0 to remove and 34 not upgraded.\n",
            "Need to get 154 kB of archives.\n",
            "After this operation, 613 kB of additional disk space will be used.\n",
            "Get:1 http://archive.ubuntu.com/ubuntu bionic-updates/main amd64 poppler-utils amd64 0.62.0-2ubuntu2.12 [154 kB]\n",
            "Fetched 154 kB in 1s (299 kB/s)\n",
            "Selecting previously unselected package poppler-utils.\n",
            "(Reading database ... 160706 files and directories currently installed.)\n",
            "Preparing to unpack .../poppler-utils_0.62.0-2ubuntu2.12_amd64.deb ...\n",
            "Unpacking poppler-utils (0.62.0-2ubuntu2.12) ...\n",
            "Setting up poppler-utils (0.62.0-2ubuntu2.12) ...\n",
            "Processing triggers for man-db (2.8.3-2ubuntu0.1) ...\n",
            "Requirement already satisfied: pdf2image in /usr/local/lib/python3.7/dist-packages (1.15.1)\n",
            "Requirement already satisfied: pillow in /usr/local/lib/python3.7/dist-packages (from pdf2image) (7.1.2)\n"
          ],
          "name": "stdout"
        }
      ]
    },
    {
      "cell_type": "markdown",
      "metadata": {
        "id": "y8CO36ao_rS_"
      },
      "source": [
        "## 3. PNGファイルに変換する\n",
        "次のセルの `fname=\"sample\"` の部分を変換したいファイルに合わせて変更した後，実行する．ここで `fname` には，**変換したいファイル名から拡張子部分`.pdf`を取り除いたもの**を与えること．\n",
        "\n",
        "実行してしばらく待つとファイルビューアーに `sample_0.png` というような名前で PNG形式のファイルが保存されるので，これをダウンロードする.\n",
        "<div align=\"center\">\n",
        "<img src=https://i.imgur.com/fq2PVJ4.png, width=\"300\">\n",
        "</div>"
      ]
    },
    {
      "cell_type": "code",
      "metadata": {
        "id": "4XlWlJb11dcS"
      },
      "source": [
        "fname = 'sample' # PNGに変換したい PDF ファイル名(拡張子 .pdf を除いた部分)\n",
        "images = convert_from_path(fname + '.pdf')\n",
        "for index, image in enumerate(images):\n",
        "    name = \"{}_{}.png\".format(fname, index)\n",
        "    image.save(name, 'png')"
      ],
      "execution_count": 11,
      "outputs": []
    }
  ]
}