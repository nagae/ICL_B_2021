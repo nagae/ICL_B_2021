{
  "nbformat": 4,
  "nbformat_minor": 0,
  "metadata": {
    "colab": {
      "name": "duration.ipynb",
      "provenance": [],
      "collapsed_sections": [],
      "authorship_tag": "ABX9TyPy2/VPJD7KG7HkBuTF2RmA",
      "include_colab_link": true
    },
    "kernelspec": {
      "name": "python3",
      "display_name": "Python 3"
    },
    "language_info": {
      "name": "python"
    }
  },
  "cells": [
    {
      "cell_type": "markdown",
      "metadata": {
        "id": "view-in-github",
        "colab_type": "text"
      },
      "source": [
        "<a href=\"https://colab.research.google.com/github/nagae/ICL_B_2021/blob/main/duration.ipynb\" target=\"_parent\"><img src=\"https://colab.research.google.com/assets/colab-badge.svg\" alt=\"Open In Colab\"/></a>"
      ]
    },
    {
      "cell_type": "markdown",
      "metadata": {
        "id": "UadW5XCZp3ck"
      },
      "source": [
        "# jp_df から特定の期間内のデータだけをとりだす\n",
        "[`pandas.DataFrame.xs`関数](https://pandas.pydata.org/docs/reference/api/pandas.DataFrame.xs.html)に [`slice`関数](https://docs.python.org/ja/3/library/functions.html#slice)を使うと，特定の期間内のデータだけを取り出すことができる.\n",
        "その際 `drop_level=False` というオプションを与えれば，日付のインデックスが落ちない．\n",
        "\n",
        "たとえば，`jp_df`の中から2021年1月1日〜31日のデータだけを抜き出して `p1_df` というデータフレームに格納するには，以下のようにする：\n",
        "```\n",
        "p1_df = jp_df.xs(slice('2021-01-01', '2021-01-31'), level='年月日', drop_level=False)\n",
        "```"
      ]
    },
    {
      "cell_type": "code",
      "metadata": {
        "colab": {
          "base_uri": "https://localhost:8080/",
          "height": 923
        },
        "id": "7zzhRlQnoUGR",
        "outputId": "58bc1335-65c8-42ed-f3cd-8a1670a31bd7"
      },
      "source": [
        "# 必要なモジュールのインポート\n",
        "import numpy as np # 行列計算\n",
        "import pandas as pd # データベース\n",
        "from matplotlib import pyplot as plt, dates as mdates # グラフ描画\n",
        "import datetime # 日付\n",
        "# ファイルを読み込み，列名を使いやすい形に修正\n",
        "fname = 'https://toyokeizai.net/sp/visual/tko/covid19/csv/prefectures.csv'\n",
        "jp_df = pd.read_csv(fname, dtype=str)\n",
        "jp_df.columns = [ \"年\", \"月\" , \"日\", \"都道府県\", \"Pref\", \"陽性数\", \"検査数\", \"入院数\", \"重症数\", \"退院数\", \"死亡数\", \"実効再生産数\"]\n",
        "# 都道府県名以外の全てのセルを整数値に変換する\n",
        "for c in jp_df.columns:\n",
        "    if c in [\"都道府県\", \"Pref\"]: # 都道府県名のデータは文字型として扱う\n",
        "        jp_df[c] = jp_df[c].astype(str)\n",
        "    else:\n",
        "        jp_df[c] = pd.to_numeric(jp_df[c], errors='coerce') # 都道府県名以外のデータは数値として扱う\n",
        "        jp_df[c] = jp_df[c].fillna(0) # データが欠損している部分を0で埋める\n",
        "        jp_df[c] = jp_df[c].astype(float) # 一旦は実数型に変換する \n",
        "        if c not in [\"実効再生産数\"]: # 実効再生産数以外のデータは整数型として扱う\n",
        "            jp_df[c] = jp_df[c].astype(int)\n",
        "\n",
        "# 年月日の列からdatetime型のインデックスを生成する\n",
        "jp_df[\"年月日\"] = pd.to_datetime(jp_df[[\"年\", \"月\", \"日\"]].astype(str).agg('-'.join, axis=1), format='%Y-%m-%d')\n",
        "# 都道府県名と年月日からなるマルチインデックスを構築\n",
        "jp_df = jp_df.set_index([\"都道府県\", \"年月日\"])\n",
        "jp_df # jp_df の概観を表示"
      ],
      "execution_count": 2,
      "outputs": [
        {
          "output_type": "execute_result",
          "data": {
            "text/html": [
              "<div>\n",
              "<style scoped>\n",
              "    .dataframe tbody tr th:only-of-type {\n",
              "        vertical-align: middle;\n",
              "    }\n",
              "\n",
              "    .dataframe tbody tr th {\n",
              "        vertical-align: top;\n",
              "    }\n",
              "\n",
              "    .dataframe thead th {\n",
              "        text-align: right;\n",
              "    }\n",
              "</style>\n",
              "<table border=\"1\" class=\"dataframe\">\n",
              "  <thead>\n",
              "    <tr style=\"text-align: right;\">\n",
              "      <th></th>\n",
              "      <th></th>\n",
              "      <th>年</th>\n",
              "      <th>月</th>\n",
              "      <th>日</th>\n",
              "      <th>Pref</th>\n",
              "      <th>陽性数</th>\n",
              "      <th>検査数</th>\n",
              "      <th>入院数</th>\n",
              "      <th>重症数</th>\n",
              "      <th>退院数</th>\n",
              "      <th>死亡数</th>\n",
              "      <th>実効再生産数</th>\n",
              "    </tr>\n",
              "    <tr>\n",
              "      <th>都道府県</th>\n",
              "      <th>年月日</th>\n",
              "      <th></th>\n",
              "      <th></th>\n",
              "      <th></th>\n",
              "      <th></th>\n",
              "      <th></th>\n",
              "      <th></th>\n",
              "      <th></th>\n",
              "      <th></th>\n",
              "      <th></th>\n",
              "      <th></th>\n",
              "      <th></th>\n",
              "    </tr>\n",
              "  </thead>\n",
              "  <tbody>\n",
              "    <tr>\n",
              "      <th>東京都</th>\n",
              "      <th>2020-02-08</th>\n",
              "      <td>2020</td>\n",
              "      <td>2</td>\n",
              "      <td>8</td>\n",
              "      <td>Tokyo</td>\n",
              "      <td>3</td>\n",
              "      <td>0</td>\n",
              "      <td>0</td>\n",
              "      <td>0</td>\n",
              "      <td>0</td>\n",
              "      <td>0</td>\n",
              "      <td>0.00</td>\n",
              "    </tr>\n",
              "    <tr>\n",
              "      <th>神奈川県</th>\n",
              "      <th>2020-02-08</th>\n",
              "      <td>2020</td>\n",
              "      <td>2</td>\n",
              "      <td>8</td>\n",
              "      <td>Kanagawa</td>\n",
              "      <td>1</td>\n",
              "      <td>0</td>\n",
              "      <td>0</td>\n",
              "      <td>0</td>\n",
              "      <td>0</td>\n",
              "      <td>0</td>\n",
              "      <td>0.00</td>\n",
              "    </tr>\n",
              "    <tr>\n",
              "      <th>東京都</th>\n",
              "      <th>2020-02-09</th>\n",
              "      <td>2020</td>\n",
              "      <td>2</td>\n",
              "      <td>9</td>\n",
              "      <td>Tokyo</td>\n",
              "      <td>3</td>\n",
              "      <td>0</td>\n",
              "      <td>0</td>\n",
              "      <td>0</td>\n",
              "      <td>0</td>\n",
              "      <td>0</td>\n",
              "      <td>0.00</td>\n",
              "    </tr>\n",
              "    <tr>\n",
              "      <th>神奈川県</th>\n",
              "      <th>2020-02-09</th>\n",
              "      <td>2020</td>\n",
              "      <td>2</td>\n",
              "      <td>9</td>\n",
              "      <td>Kanagawa</td>\n",
              "      <td>1</td>\n",
              "      <td>0</td>\n",
              "      <td>0</td>\n",
              "      <td>0</td>\n",
              "      <td>0</td>\n",
              "      <td>0</td>\n",
              "      <td>0.00</td>\n",
              "    </tr>\n",
              "    <tr>\n",
              "      <th>東京都</th>\n",
              "      <th>2020-02-10</th>\n",
              "      <td>2020</td>\n",
              "      <td>2</td>\n",
              "      <td>10</td>\n",
              "      <td>Tokyo</td>\n",
              "      <td>3</td>\n",
              "      <td>0</td>\n",
              "      <td>0</td>\n",
              "      <td>0</td>\n",
              "      <td>0</td>\n",
              "      <td>0</td>\n",
              "      <td>0.00</td>\n",
              "    </tr>\n",
              "    <tr>\n",
              "      <th>...</th>\n",
              "      <th>...</th>\n",
              "      <td>...</td>\n",
              "      <td>...</td>\n",
              "      <td>...</td>\n",
              "      <td>...</td>\n",
              "      <td>...</td>\n",
              "      <td>...</td>\n",
              "      <td>...</td>\n",
              "      <td>...</td>\n",
              "      <td>...</td>\n",
              "      <td>...</td>\n",
              "      <td>...</td>\n",
              "    </tr>\n",
              "    <tr>\n",
              "      <th>熊本県</th>\n",
              "      <th>2021-05-19</th>\n",
              "      <td>2021</td>\n",
              "      <td>5</td>\n",
              "      <td>19</td>\n",
              "      <td>Kumamoto</td>\n",
              "      <td>5485</td>\n",
              "      <td>74137</td>\n",
              "      <td>912</td>\n",
              "      <td>21</td>\n",
              "      <td>4484</td>\n",
              "      <td>89</td>\n",
              "      <td>0.98</td>\n",
              "    </tr>\n",
              "    <tr>\n",
              "      <th>大分県</th>\n",
              "      <th>2021-05-19</th>\n",
              "      <td>2021</td>\n",
              "      <td>5</td>\n",
              "      <td>19</td>\n",
              "      <td>Oita</td>\n",
              "      <td>3011</td>\n",
              "      <td>134662</td>\n",
              "      <td>661</td>\n",
              "      <td>6</td>\n",
              "      <td>2313</td>\n",
              "      <td>37</td>\n",
              "      <td>0.90</td>\n",
              "    </tr>\n",
              "    <tr>\n",
              "      <th>宮崎県</th>\n",
              "      <th>2021-05-19</th>\n",
              "      <td>2021</td>\n",
              "      <td>5</td>\n",
              "      <td>19</td>\n",
              "      <td>Miyazaki</td>\n",
              "      <td>2887</td>\n",
              "      <td>38333</td>\n",
              "      <td>354</td>\n",
              "      <td>5</td>\n",
              "      <td>2499</td>\n",
              "      <td>25</td>\n",
              "      <td>0.54</td>\n",
              "    </tr>\n",
              "    <tr>\n",
              "      <th>鹿児島県</th>\n",
              "      <th>2021-05-19</th>\n",
              "      <td>2021</td>\n",
              "      <td>5</td>\n",
              "      <td>19</td>\n",
              "      <td>Kagoshima</td>\n",
              "      <td>2986</td>\n",
              "      <td>93644</td>\n",
              "      <td>427</td>\n",
              "      <td>3</td>\n",
              "      <td>2519</td>\n",
              "      <td>28</td>\n",
              "      <td>0.84</td>\n",
              "    </tr>\n",
              "    <tr>\n",
              "      <th>沖縄県</th>\n",
              "      <th>2021-05-19</th>\n",
              "      <td>2021</td>\n",
              "      <td>5</td>\n",
              "      <td>19</td>\n",
              "      <td>Okinawa</td>\n",
              "      <td>14289</td>\n",
              "      <td>205955</td>\n",
              "      <td>1639</td>\n",
              "      <td>45</td>\n",
              "      <td>12510</td>\n",
              "      <td>146</td>\n",
              "      <td>1.36</td>\n",
              "    </tr>\n",
              "  </tbody>\n",
              "</table>\n",
              "<p>20535 rows × 11 columns</p>\n",
              "</div>"
            ],
            "text/plain": [
              "                    年  月   日       Pref    陽性数  ...   入院数  重症数    退院数  死亡数  実効再生産数\n",
              "都道府県 年月日                                        ...                               \n",
              "東京都  2020-02-08  2020  2   8      Tokyo      3  ...     0    0      0    0    0.00\n",
              "神奈川県 2020-02-08  2020  2   8   Kanagawa      1  ...     0    0      0    0    0.00\n",
              "東京都  2020-02-09  2020  2   9      Tokyo      3  ...     0    0      0    0    0.00\n",
              "神奈川県 2020-02-09  2020  2   9   Kanagawa      1  ...     0    0      0    0    0.00\n",
              "東京都  2020-02-10  2020  2  10      Tokyo      3  ...     0    0      0    0    0.00\n",
              "...               ... ..  ..        ...    ...  ...   ...  ...    ...  ...     ...\n",
              "熊本県  2021-05-19  2021  5  19   Kumamoto   5485  ...   912   21   4484   89    0.98\n",
              "大分県  2021-05-19  2021  5  19       Oita   3011  ...   661    6   2313   37    0.90\n",
              "宮崎県  2021-05-19  2021  5  19   Miyazaki   2887  ...   354    5   2499   25    0.54\n",
              "鹿児島県 2021-05-19  2021  5  19  Kagoshima   2986  ...   427    3   2519   28    0.84\n",
              "沖縄県  2021-05-19  2021  5  19    Okinawa  14289  ...  1639   45  12510  146    1.36\n",
              "\n",
              "[20535 rows x 11 columns]"
            ]
          },
          "metadata": {
            "tags": []
          },
          "execution_count": 2
        }
      ]
    },
    {
      "cell_type": "code",
      "metadata": {
        "id": "_CTMS1EsoVGj"
      },
      "source": [
        "# 2つの期間を指定\n",
        "period1 = ('2021-01-01', '2021-01-31')\n",
        "period2 = ('2021-04-01', '2021-05-01')\n",
        "p1_df = jp_df.xs(slice(*period1), level='年月日', drop_level=False) # period1 に対するデータ\n",
        "p2_df = jp_df.xs(slice(*period2), level='年月日', drop_level=False) # period2 に対するデータ"
      ],
      "execution_count": 10,
      "outputs": []
    },
    {
      "cell_type": "code",
      "metadata": {
        "id": "iAABHEvOF1jZ"
      },
      "source": [
        "conf1 = p1_df[\"陽性数\"].groupby('年月日').sum() # period1 の陽性数\n",
        "conf2 = p2_df[\"陽性数\"].groupby('年月日').sum() # period1 の陽性数"
      ],
      "execution_count": 11,
      "outputs": []
    },
    {
      "cell_type": "code",
      "metadata": {
        "colab": {
          "base_uri": "https://localhost:8080/",
          "height": 286
        },
        "id": "IXhn0PQ2Gwsm",
        "outputId": "a7013ba5-4c0e-4058-d349-73c096aad6a5"
      },
      "source": [
        "fig, ax = plt.subplots(1,2,figsize=(8*2,6))\n",
        "ax[0].plot(conf1.diff()) # period1 の日次新規陽性数\n",
        "ax[0].set_title('new daily confirmed: {} - {}'.format(*period1))\n",
        "ax[1].plot(conf2.diff()) # period2 の日次新規陽性数\n",
        "ax[1].set_title('new daily confirmed: {} - {}'.format(*period2))\n"
      ],
      "execution_count": 16,
      "outputs": [
        {
          "output_type": "execute_result",
          "data": {
            "text/plain": [
              "Text(0.5, 1.0, 'new daily confirmed: 2021-04-01 - 2021-05-01')"
            ]
          },
          "metadata": {
            "tags": []
          },
          "execution_count": 16
        },
        {
          "output_type": "display_data",
          "data": {
            "image/png": "[encoded data removed]",
            "text/plain": [
              "<Figure size 1152x432 with 2 Axes>"
            ]
          },
          "metadata": {
            "tags": [],
            "needs_background": "light"
          }
        }
      ]
    },
    {
      "cell_type": "code",
      "metadata": {
        "id": "KICQAe-eG3_m"
      },
      "source": [
        ""
      ],
      "execution_count": null,
      "outputs": []
    }
  ]
}