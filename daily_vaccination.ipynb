{
  "nbformat": 4,
  "nbformat_minor": 0,
  "metadata": {
    "colab": {
      "name": "daily_vaccination.ipynb",
      "provenance": [],
      "authorship_tag": "ABX9TyM3zkR2p3r3Nht70jiwHgK9",
      "include_colab_link": true
    },
    "kernelspec": {
      "name": "python3",
      "display_name": "Python 3"
    },
    "language_info": {
      "name": "python"
    }
  },
  "cells": [
    {
      "cell_type": "markdown",
      "metadata": {
        "id": "view-in-github",
        "colab_type": "text"
      },
      "source": [
        "<a href=\"https://colab.research.google.com/github/nagae/ICL_B_2021/blob/main/daily_vaccination.ipynb\" target=\"_parent\"><img src=\"https://colab.research.google.com/assets/colab-badge.svg\" alt=\"Open In Colab\"/></a>"
      ]
    },
    {
      "cell_type": "code",
      "metadata": {
        "id": "PLF1P__ND8oq"
      },
      "source": [
        "import numpy as np\n",
        "import pandas as pd\n",
        "from matplotlib import pyplot as plt"
      ],
      "execution_count": 28,
      "outputs": []
    },
    {
      "cell_type": "code",
      "metadata": {
        "colab": {
          "base_uri": "https://localhost:8080/",
          "height": 731
        },
        "id": "W9jjoM0kEBpA",
        "outputId": "0fe2891f-d38d-4ef2-ddcf-66f2c02ec272"
      },
      "source": [
        "df = pd.read_excel('https://www.kantei.go.jp/jp/content/IRYO-vaccination_data.xlsx', header=2) # read_excel関数を使って Excel ファイルを読込む．行2をヘッダとする\n",
        "df = df.drop(index=0) # 合計が記載されている行0を削除\n",
        "df = df.dropna() # 訳のわからない日本語が記載されている行を削除(データ提供が目的のファイルにコメント書くのホント辞めて欲しい)\n",
        "df = df.set_index(df.columns[0]) # 列0の集計日をインデックスにする．列0の列名が\"　集計日\"となっているのがウザい（無駄に全角スペースとかホント辞めて欲しい）ので， df.columns[0] で指定．\n",
        "df = df.iloc[::-1] # データを古い方から新しい方へ並べ変える\n",
        "df # データフレームの中身を表示"
      ],
      "execution_count": 63,
      "outputs": [
        {
          "output_type": "execute_result",
          "data": {
            "text/html": [
              "<div>\n",
              "<style scoped>\n",
              "    .dataframe tbody tr th:only-of-type {\n",
              "        vertical-align: middle;\n",
              "    }\n",
              "\n",
              "    .dataframe tbody tr th {\n",
              "        vertical-align: top;\n",
              "    }\n",
              "\n",
              "    .dataframe thead th {\n",
              "        text-align: right;\n",
              "    }\n",
              "</style>\n",
              "<table border=\"1\" class=\"dataframe\">\n",
              "  <thead>\n",
              "    <tr style=\"text-align: right;\">\n",
              "      <th></th>\n",
              "      <th>曜日</th>\n",
              "      <th>接種回数</th>\n",
              "      <th>内１回目</th>\n",
              "      <th>内２回目</th>\n",
              "    </tr>\n",
              "    <tr>\n",
              "      <th>集計日</th>\n",
              "      <th></th>\n",
              "      <th></th>\n",
              "      <th></th>\n",
              "      <th></th>\n",
              "    </tr>\n",
              "  </thead>\n",
              "  <tbody>\n",
              "    <tr>\n",
              "      <th>2021-04-12</th>\n",
              "      <td>(月)</td>\n",
              "      <td>96936.0</td>\n",
              "      <td>26850.0</td>\n",
              "      <td>70086.0</td>\n",
              "    </tr>\n",
              "    <tr>\n",
              "      <th>2021-04-13</th>\n",
              "      <td>(火)</td>\n",
              "      <td>53986.0</td>\n",
              "      <td>13896.0</td>\n",
              "      <td>40090.0</td>\n",
              "    </tr>\n",
              "    <tr>\n",
              "      <th>2021-04-14</th>\n",
              "      <td>(水)</td>\n",
              "      <td>50996.0</td>\n",
              "      <td>9569.0</td>\n",
              "      <td>41427.0</td>\n",
              "    </tr>\n",
              "    <tr>\n",
              "      <th>2021-04-15</th>\n",
              "      <td>(木)</td>\n",
              "      <td>52620.0</td>\n",
              "      <td>16637.0</td>\n",
              "      <td>35983.0</td>\n",
              "    </tr>\n",
              "    <tr>\n",
              "      <th>2021-04-16</th>\n",
              "      <td>(金)</td>\n",
              "      <td>69687.0</td>\n",
              "      <td>29696.0</td>\n",
              "      <td>39991.0</td>\n",
              "    </tr>\n",
              "    <tr>\n",
              "      <th>2021-04-19</th>\n",
              "      <td>(月)</td>\n",
              "      <td>119032.0</td>\n",
              "      <td>64725.0</td>\n",
              "      <td>54307.0</td>\n",
              "    </tr>\n",
              "    <tr>\n",
              "      <th>2021-04-20</th>\n",
              "      <td>(火)</td>\n",
              "      <td>126419.0</td>\n",
              "      <td>98622.0</td>\n",
              "      <td>27797.0</td>\n",
              "    </tr>\n",
              "    <tr>\n",
              "      <th>2021-04-21</th>\n",
              "      <td>(水)</td>\n",
              "      <td>152884.0</td>\n",
              "      <td>126188.0</td>\n",
              "      <td>26696.0</td>\n",
              "    </tr>\n",
              "    <tr>\n",
              "      <th>2021-04-22</th>\n",
              "      <td>(木)</td>\n",
              "      <td>150489.0</td>\n",
              "      <td>128634.0</td>\n",
              "      <td>21855.0</td>\n",
              "    </tr>\n",
              "    <tr>\n",
              "      <th>2021-04-23</th>\n",
              "      <td>(金)</td>\n",
              "      <td>177672.0</td>\n",
              "      <td>147989.0</td>\n",
              "      <td>29683.0</td>\n",
              "    </tr>\n",
              "    <tr>\n",
              "      <th>2021-04-26</th>\n",
              "      <td>(月)</td>\n",
              "      <td>263328.0</td>\n",
              "      <td>221677.0</td>\n",
              "      <td>41651.0</td>\n",
              "    </tr>\n",
              "    <tr>\n",
              "      <th>2021-04-27</th>\n",
              "      <td>(火)</td>\n",
              "      <td>203174.0</td>\n",
              "      <td>172069.0</td>\n",
              "      <td>31105.0</td>\n",
              "    </tr>\n",
              "    <tr>\n",
              "      <th>2021-04-28</th>\n",
              "      <td>(水)</td>\n",
              "      <td>238273.0</td>\n",
              "      <td>194005.0</td>\n",
              "      <td>44268.0</td>\n",
              "    </tr>\n",
              "    <tr>\n",
              "      <th>2021-04-30</th>\n",
              "      <td>(金)</td>\n",
              "      <td>274907.0</td>\n",
              "      <td>227667.0</td>\n",
              "      <td>47240.0</td>\n",
              "    </tr>\n",
              "    <tr>\n",
              "      <th>2021-05-06</th>\n",
              "      <td>(木)</td>\n",
              "      <td>331914.0</td>\n",
              "      <td>268978.0</td>\n",
              "      <td>62936.0</td>\n",
              "    </tr>\n",
              "    <tr>\n",
              "      <th>2021-05-07</th>\n",
              "      <td>(金)</td>\n",
              "      <td>140344.0</td>\n",
              "      <td>97165.0</td>\n",
              "      <td>43179.0</td>\n",
              "    </tr>\n",
              "    <tr>\n",
              "      <th>2021-05-10</th>\n",
              "      <td>(月)</td>\n",
              "      <td>223504.0</td>\n",
              "      <td>155255.0</td>\n",
              "      <td>68249.0</td>\n",
              "    </tr>\n",
              "    <tr>\n",
              "      <th>2021-05-11</th>\n",
              "      <td>(火)</td>\n",
              "      <td>168738.0</td>\n",
              "      <td>90287.0</td>\n",
              "      <td>78451.0</td>\n",
              "    </tr>\n",
              "    <tr>\n",
              "      <th>2021-05-12</th>\n",
              "      <td>(水)</td>\n",
              "      <td>181720.0</td>\n",
              "      <td>82959.0</td>\n",
              "      <td>98761.0</td>\n",
              "    </tr>\n",
              "    <tr>\n",
              "      <th>2021-05-13</th>\n",
              "      <td>(木)</td>\n",
              "      <td>219139.0</td>\n",
              "      <td>93429.0</td>\n",
              "      <td>125710.0</td>\n",
              "    </tr>\n",
              "    <tr>\n",
              "      <th>2021-05-14</th>\n",
              "      <td>(金)</td>\n",
              "      <td>242878.0</td>\n",
              "      <td>99493.0</td>\n",
              "      <td>143385.0</td>\n",
              "    </tr>\n",
              "  </tbody>\n",
              "</table>\n",
              "</div>"
            ],
            "text/plain": [
              "             曜日     接種回数　      内１回目      内２回目\n",
              "　集計日                                         \n",
              "2021-04-12  (月)   96936.0   26850.0   70086.0\n",
              "2021-04-13  (火)   53986.0   13896.0   40090.0\n",
              "2021-04-14  (水)   50996.0    9569.0   41427.0\n",
              "2021-04-15  (木)   52620.0   16637.0   35983.0\n",
              "2021-04-16  (金)   69687.0   29696.0   39991.0\n",
              "2021-04-19  (月)  119032.0   64725.0   54307.0\n",
              "2021-04-20  (火)  126419.0   98622.0   27797.0\n",
              "2021-04-21  (水)  152884.0  126188.0   26696.0\n",
              "2021-04-22  (木)  150489.0  128634.0   21855.0\n",
              "2021-04-23  (金)  177672.0  147989.0   29683.0\n",
              "2021-04-26  (月)  263328.0  221677.0   41651.0\n",
              "2021-04-27  (火)  203174.0  172069.0   31105.0\n",
              "2021-04-28  (水)  238273.0  194005.0   44268.0\n",
              "2021-04-30  (金)  274907.0  227667.0   47240.0\n",
              "2021-05-06  (木)  331914.0  268978.0   62936.0\n",
              "2021-05-07  (金)  140344.0   97165.0   43179.0\n",
              "2021-05-10  (月)  223504.0  155255.0   68249.0\n",
              "2021-05-11  (火)  168738.0   90287.0   78451.0\n",
              "2021-05-12  (水)  181720.0   82959.0   98761.0\n",
              "2021-05-13  (木)  219139.0   93429.0  125710.0\n",
              "2021-05-14  (金)  242878.0   99493.0  143385.0"
            ]
          },
          "metadata": {
            "tags": []
          },
          "execution_count": 63
        }
      ]
    },
    {
      "cell_type": "code",
      "metadata": {
        "colab": {
          "base_uri": "https://localhost:8080/",
          "height": 284
        },
        "id": "Q2mQLDOpEHMA",
        "outputId": "edaad8d5-94c1-4c32-e563-5d0ef3a3df2d"
      },
      "source": [
        "plt.bar(df.index.strftime(\"%m/%d\"),df.iloc[:,1]) # ワクチン接種回数を棒グラフで表示\n",
        "plt.xticks(rotation=90) # x軸ラベルを90度回転\n",
        "plt.show()"
      ],
      "execution_count": 84,
      "outputs": [
        {
          "output_type": "display_data",
          "data": {
            "image/png": "[encoded data removed]",
            "text/plain": [
              "<Figure size 432x288 with 1 Axes>"
            ]
          },
          "metadata": {
            "tags": [],
            "needs_background": "light"
          }
        }
      ]
    }
  ]
}